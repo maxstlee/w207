{
 "cells": [
  {
   "cell_type": "markdown",
   "metadata": {},
   "source": [
    "# Project 2: Topic Classification"
   ]
  },
  {
   "cell_type": "markdown",
   "metadata": {},
   "source": [
    "In this project, you'll work with text data from newsgroup postings on a variety of topics. You'll train classifiers to distinguish between the topics based on the text of the posts. Whereas with digit classification, the input is relatively dense: a 28x28 matrix of pixels, many of which are non-zero, here we'll represent each document with a \"bag-of-words\" model. As you'll see, this makes the feature representation quite sparse -- only a few words of the total vocabulary are active in any given document. The bag-of-words assumption here is that the label depends only on the words; their order is not important.\n",
    "\n",
    "The SK-learn documentation on feature extraction will prove useful:\n",
    "http://scikit-learn.org/stable/modules/feature_extraction.html\n",
    "\n",
    "Each problem can be addressed succinctly with the included packages -- please don't add any more. Grading will be based on writing clean, commented code, along with a few short answers.\n",
    "\n",
    "As always, you're welcome to work on the project in groups and discuss ideas on the course wall, but please prepare your own write-up and write your own code."
   ]
  },
  {
   "cell_type": "code",
   "execution_count": 2,
   "metadata": {
    "collapsed": false
   },
   "outputs": [],
   "source": [
    "# This tells matplotlib not to try opening a new window for each plot.\n",
    "%matplotlib inline\n",
    "\n",
    "# General libraries.\n",
    "import re\n",
    "import numpy as np\n",
    "import pandas as pd\n",
    "import matplotlib.pyplot as plt\n",
    "\n",
    "# SK-learn libraries for learning.\n",
    "from sklearn.pipeline import Pipeline\n",
    "from sklearn.neighbors import KNeighborsClassifier\n",
    "from sklearn.linear_model import LogisticRegression\n",
    "from sklearn.naive_bayes import BernoulliNB\n",
    "from sklearn.naive_bayes import MultinomialNB\n",
    "from sklearn.grid_search import GridSearchCV\n",
    "\n",
    "# SK-learn libraries for evaluation.\n",
    "from sklearn.metrics import confusion_matrix\n",
    "from sklearn import metrics\n",
    "from sklearn.metrics import classification_report\n",
    "\n",
    "# SK-learn library for importing the newsgroup data.\n",
    "from sklearn.datasets import fetch_20newsgroups\n",
    "\n",
    "# SK-learn libraries for feature extraction from text.\n",
    "from sklearn.feature_extraction.text import *"
   ]
  },
  {
   "cell_type": "markdown",
   "metadata": {},
   "source": [
    "Load the data, stripping out metadata so that we learn classifiers that only use textual features. By default, newsgroups data is split into train and test sets. We further split the test so we have a dev set. Note that we specify 4 categories to use for this project. If you remove the categories argument from the fetch function, you'll get all 20 categories."
   ]
  },
  {
   "cell_type": "code",
   "execution_count": 3,
   "metadata": {
    "collapsed": false
   },
   "outputs": [
    {
     "name": "stdout",
     "output_type": "stream",
     "text": [
      "training label shape: (2034L,)\n",
      "test label shape: (677L,)\n",
      "dev label shape: (676L,)\n",
      "labels names: ['alt.atheism', 'comp.graphics', 'sci.space', 'talk.religion.misc']\n"
     ]
    }
   ],
   "source": [
    "categories = ['alt.atheism', 'talk.religion.misc', 'comp.graphics', 'sci.space']\n",
    "newsgroups_train = fetch_20newsgroups(subset='train',\n",
    "                                      remove=('headers', 'footers', 'quotes'),\n",
    "                                      categories=categories)\n",
    "newsgroups_test = fetch_20newsgroups(subset='test',\n",
    "                                     remove=('headers', 'footers', 'quotes'),\n",
    "                                     categories=categories)\n",
    "\n",
    "num_test = len(newsgroups_test.target)\n",
    "test_data, test_labels = newsgroups_test.data[num_test/2:], newsgroups_test.target[num_test/2:]\n",
    "dev_data, dev_labels = newsgroups_test.data[:num_test/2], newsgroups_test.target[:num_test/2]\n",
    "train_data, train_labels = newsgroups_train.data, newsgroups_train.target\n",
    "\n",
    "print 'training label shape:', train_labels.shape\n",
    "print 'test label shape:', test_labels.shape\n",
    "print 'dev label shape:', dev_labels.shape\n",
    "print 'labels names:', newsgroups_train.target_names"
   ]
  },
  {
   "cell_type": "markdown",
   "metadata": {},
   "source": [
    "(1) For each of the first 5 training examples, print the text of the message along with the label."
   ]
  },
  {
   "cell_type": "code",
   "execution_count": 3,
   "metadata": {
    "collapsed": false
   },
   "outputs": [
    {
     "name": "stdout",
     "output_type": "stream",
     "text": [
      "For example 1, the label is 1, which corresponds to the category of talk.religion.misc.\n",
      "The corresponding message is :\n",
      "\n",
      "Hi,\n",
      "\n",
      "I've noticed that if you only save a model (with all your mapping planes\n",
      "positioned carefully) to a .3DS file that when you reload it after restarting\n",
      "3DS, they are given a default position and orientation.  But if you save\n",
      "to a .PRJ file their positions/orientation are preserved.  Does anyone\n",
      "know why this information is not stored in the .3DS file?  Nothing is\n",
      "explicitly said in the manual about saving texture rules in the .PRJ file. \n",
      "I'd like to be able to read the texture rule information, does anyone have \n",
      "the format for the .PRJ file?\n",
      "\n",
      "Is the .CEL file format available from somewhere?\n",
      "\n",
      "Rych\n",
      "\n",
      "For example 2, the label is 3, which corresponds to the category of sci.space.\n",
      "The corresponding message is :\n",
      "\n",
      "\n",
      "\n",
      "Seems to be, barring evidence to the contrary, that Koresh was simply\n",
      "another deranged fanatic who thought it neccessary to take a whole bunch of\n",
      "folks with him, children and all, to satisfy his delusional mania. Jim\n",
      "Jones, circa 1993.\n",
      "\n",
      "\n",
      "Nope - fruitcakes like Koresh have been demonstrating such evil corruption\n",
      "for centuries.\n",
      "\n",
      "For example 3, the label is 2, which corresponds to the category of comp.graphics.\n",
      "The corresponding message is :\n",
      "\n",
      "\n",
      " >In article <1993Apr19.020359.26996@sq.sq.com>, msb@sq.sq.com (Mark Brader) \n",
      "\n",
      "MB>                                                             So the\n",
      "MB> 1970 figure seems unlikely to actually be anything but a perijove.\n",
      "\n",
      "JG>Sorry, _perijoves_...I'm not used to talking this language.\n",
      "\n",
      "Couldn't we just say periapsis or apoapsis?\n",
      "\n",
      " \n",
      "\n",
      "For example 4, the label is 0, which corresponds to the category of alt.atheism.\n",
      "The corresponding message is :\n",
      "\n",
      "I have a request for those who would like to see Charley Wingate\n",
      "respond to the \"Charley Challenges\" (and judging from my e-mail, there\n",
      "appear to be quite a few of you.)  \n",
      "\n",
      "It is clear that Mr. Wingate intends to continue to post tangential or\n",
      "unrelated articles while ingoring the Challenges themselves.  Between\n",
      "the last two re-postings of the Challenges, I noted perhaps a dozen or\n",
      "more posts by Mr. Wingate, none of which answered a single Challenge.  \n",
      "\n",
      "It seems unmistakable to me that Mr. Wingate hopes that the questions\n",
      "will just go away, and he is doing his level best to change the\n",
      "subject.  Given that this seems a rather common net.theist tactic, I\n",
      "would like to suggest that we impress upon him our desire for answers,\n",
      "in the following manner:\n",
      "\n",
      "1. Ignore any future articles by Mr. Wingate that do not address the\n",
      "Challenges, until he answers them or explictly announces that he\n",
      "refuses to do so.\n",
      "\n",
      "--or--\n",
      "\n",
      "2. If you must respond to one of his articles, include within it\n",
      "something similar to the following:\n",
      "\n",
      "    \"Please answer the questions posed to you in the Charley Challenges.\"\n",
      "\n",
      "Really, I'm not looking to humiliate anyone here, I just want some\n",
      "honest answers.  You wouldn't think that honesty would be too much to\n",
      "ask from a devout Christian, would you?  \n",
      "\n",
      "Nevermind, that was a rhetorical question.\n",
      "\n",
      "For example 5, the label is 2, which corresponds to the category of comp.graphics.\n",
      "The corresponding message is :\n",
      "\n",
      "AW&ST  had a brief blurb on a Manned Lunar Exploration confernce\n",
      "May 7th  at Crystal City Virginia, under the auspices of AIAA.\n",
      "\n",
      "Does anyone know more about this?  How much, to attend????\n",
      "\n",
      "Anyone want to go?\n",
      "\n"
     ]
    }
   ],
   "source": [
    "def P1(num_examples=5):\n",
    "### STUDENT START ###\n",
    "    # simple iteration to return the requested examples and labels\n",
    "    for i in range(num_examples):\n",
    "        message_text = train_data[i]\n",
    "        raw_label = train_labels[i]\n",
    "        cat = categories[raw_label]\n",
    "        print 'For example {}, the label is {}, which corresponds to the category of '.format(i+1, raw_label)+str(cat)+'.'\n",
    "        print 'The corresponding message is :'\n",
    "        print''\n",
    "        print message_text\n",
    "        print''\n",
    "### STUDENT END ###\n",
    "P1()"
   ]
  },
  {
   "cell_type": "markdown",
   "metadata": {},
   "source": [
    "(2) Use CountVectorizer to turn the raw training text into feature vectors. You should use the fit_transform function, which makes 2 passes through the data: first it computes the vocabulary (\"fit\"), second it converts the raw text into feature vectors using the vocabulary (\"transform\").\n",
    "\n",
    "The vectorizer has a lot of options. To get familiar with some of them, write code to answer these questions:\n",
    "\n",
    "a. The output of the transform (also of fit_transform) is a sparse matrix: http://docs.scipy.org/doc/scipy-0.14.0/reference/generated/scipy.sparse.csr_matrix.html. What is the size of the vocabulary? What is the average number of non-zero features per example? What fraction of the entries in the matrix are non-zero? Hint: use \"nnz\" and \"shape\" attributes.\n",
    "\n",
    "b. What are the 0th and last feature strings (in alphabetical order)? Hint: use the vectorizer's get_feature_names function.\n",
    "\n",
    "c. Specify your own vocabulary with 4 words: [\"atheism\", \"graphics\", \"space\", \"religion\"]. Confirm the training vectors are appropriately shaped. Now what's the average number of non-zero features per example?\n",
    "\n",
    "d. Instead of extracting unigram word features, use \"analyzer\" and \"ngram_range\" to extract bigram and trigram character features. What size vocabulary does this yield?\n",
    "\n",
    "e. Use the \"min_df\" argument to prune words that appear in fewer than 10 documents. What size vocabulary does this yield?\n",
    "\n",
    "f. Using the standard CountVectorizer, what fraction of the words in the dev data are missing from the vocabulary? Hint: build a vocabulary for both train and dev and look at the size of the difference."
   ]
  },
  {
   "cell_type": "code",
   "execution_count": 35,
   "metadata": {
    "collapsed": false
   },
   "outputs": [
    {
     "name": "stdout",
     "output_type": "stream",
     "text": [
      "The size of the vocabulary is 26879 words derived from 2034 examples.\n",
      "\n",
      "The average number of non-zero features per example is 97.0.\n",
      "\n",
      "The fraction of total entries that are non-zero is 0.36 percent.\n",
      "\n",
      "The first feature is 00, and the last is zyxel.\n",
      "\n",
      "The average number of non-zero with reduced dictionary is features per example with is 0.0.\n",
      "\n",
      "The size of the bigram vocabulary is 3291 words.\n",
      "\n",
      "The size of the trigram vocabulary is 32187 words.\n",
      "\n",
      "When enforcing a cutoff of 10 documents, the vocabulary is 3064 words.\n",
      "\n",
      "In the dev vocabulary there are 4027 words missing from the train vocabulary.\n"
     ]
    }
   ],
   "source": [
    "def P2():\n",
    "### STUDENT START ###\n",
    "    vec = CountVectorizer()\n",
    "    x = vec.fit_transform(train_data)\n",
    "    print 'The size of the vocabulary is {} words derived from {} examples.'.format(len(vec.vocabulary_), len(train_data))\n",
    "    print ''\n",
    "    \n",
    "    #force calculation and roudning of non-zero features, mostly we assume not possible for partial feature.\n",
    "    nonzeroReps = []\n",
    "    for mat in x:\n",
    "        listRep = [int(y) for y in mat.todense().tolist()[0]]\n",
    "        nonzeroReps += [len(listRep) - listRep.count(0)]   \n",
    "    print 'The average number of non-zero features per example is {}.'.format(round(np.average(nonzeroReps),0))\n",
    "    print ''\n",
    "    \n",
    "    totalFraction = x.nnz*1.0 / (x.shape[0]*x.shape[1])\n",
    "    print 'The fraction of total entries that are non-zero is {:.2} percent.'.format(totalFraction*100)\n",
    "    print ''\n",
    "    \n",
    "    ##start of b.\n",
    "    first, last = str(vec.get_feature_names()[0]),str(vec.get_feature_names()[-1])\n",
    "    print \"The first feature is \"+first+\", and the last is \"+last+\".\"\n",
    "    print ''\n",
    "    \n",
    "    ##start of c.\n",
    "    newVocab =  [\"atheism\", \"graphics\", \"space\", \"religion\"]\n",
    "    vec1 = CountVectorizer(vocabulary=newVocab)\n",
    "    x1 = vec1.fit_transform(train_data)\n",
    "    \n",
    "    nonzeroReps1 = []\n",
    "    for mat in x1:\n",
    "        listRep = [int(y) for y in mat.todense().tolist()[0]]\n",
    "        nonzeroReps1 += [len(listRep) - listRep.count(0)]   \n",
    "    out = round(np.average(nonzeroReps1),0)\n",
    "    print 'The average number of non-zero with reduced dictionary is features per example with is {}.'.format(out)\n",
    "    print ''\n",
    "    \n",
    "    #start of d.\n",
    "    vecBi = CountVectorizer(analyzer='char',ngram_range=(2,2))\n",
    "    x2 = vecBi.fit_transform(train_data)\n",
    "    print 'The size of the bigram vocabulary is {} words.'.format(len(vecBi.vocabulary_))\n",
    "    print ''\n",
    "    \n",
    "    vecTri = CountVectorizer(analyzer='char',ngram_range=(3,3))\n",
    "    x2 = vecTri.fit_transform(train_data)\n",
    "    print 'The size of the trigram vocabulary is {} words.'.format(len(vecTri.vocabulary_))\n",
    "    print ''\n",
    "    \n",
    "    #start of e.\n",
    "    vecMin10 = CountVectorizer(min_df=10)\n",
    "    x2 = vecMin10.fit_transform(train_data)\n",
    "    len(vecMin10.vocabulary_)\n",
    "    print 'When enforcing a cutoff of 10 documents, the vocabulary is {} words.'.format(len(vecMin10.vocabulary_))\n",
    "    print ''\n",
    "    \n",
    "    #start of f.\n",
    "    trainVocab = vec.vocabulary_\n",
    "    xDev = vec.fit_transform(dev_data)\n",
    "    devVocab = vec.vocabulary_\n",
    "\n",
    "    diff = len(devVocab)-len(list(set(trainVocab.keys()) & set(devVocab.keys())))\n",
    "    print 'In the dev vocabulary there are {} words missing from the train vocabulary.'.format(diff)\n",
    "    \n",
    "    \n",
    "### STUDENT END ###\n",
    "P2()"
   ]
  },
  {
   "cell_type": "markdown",
   "metadata": {},
   "source": [
    "(3) Use the default CountVectorizer options and report the f1 score (use metrics.f1_score) for a k nearest neighbors classifier; find the optimal value for k. Also fit a Multinomial Naive Bayes model and find the optimal value for alpha. Finally, fit a logistic regression model and find the optimal value for the regularization strength C using l2 regularization. A few questions:\n",
    "\n",
    "a. Why doesn't nearest neighbors work well for this problem?\n",
    "\n",
    "b. Any ideas why logistic regression doesn't work as well as Naive Bayes?\n",
    "\n",
    "c. Logistic regression estimates a weight vector for each class, which you can access with the coef\\_ attribute. Output the sum of the squared weight values for each class for each setting of the C parameter. Briefly explain the relationship between the sum and the value of C."
   ]
  },
  {
   "cell_type": "code",
   "execution_count": 133,
   "metadata": {
    "collapsed": false
   },
   "outputs": [
    {
     "name": "stdout",
     "output_type": "stream",
     "text": [
      "The optimal choice of k from the given set is 20\n",
      "\n"
     ]
    },
    {
     "name": "stderr",
     "output_type": "stream",
     "text": [
      "C:\\Enthought\\User\\lib\\site-packages\\sklearn\\metrics\\classification.py:756: DeprecationWarning: The default `weighted` averaging is deprecated, and from version 0.18, use of precision, recall or F-score with multiclass or multilabel data or pos_label=None will result in an exception. Please set an explicit value for `average`, one of (None, 'micro', 'macro', 'weighted', 'samples'). In cross validation use, for instance, scoring=\"f1_weighted\" instead of scoring=\"f1\".\n",
      "  sample_weight=sample_weight)\n"
     ]
    },
    {
     "name": "stdout",
     "output_type": "stream",
     "text": [
      "The F1 score for K-Nearest Neighbors is 0.422\n",
      "\n",
      "The optimal choice of alpha from the given set is 0.01\n",
      "\n",
      "The F1 score for Multinomial Naive Bayes is 0.7752\n",
      "\n"
     ]
    },
    {
     "name": "stderr",
     "output_type": "stream",
     "text": [
      "C:\\Enthought\\User\\lib\\site-packages\\sklearn\\metrics\\classification.py:756: DeprecationWarning: The default `weighted` averaging is deprecated, and from version 0.18, use of precision, recall or F-score with multiclass or multilabel data or pos_label=None will result in an exception. Please set an explicit value for `average`, one of (None, 'micro', 'macro', 'weighted', 'samples'). In cross validation use, for instance, scoring=\"f1_weighted\" instead of scoring=\"f1\".\n",
      "  sample_weight=sample_weight)\n"
     ]
    },
    {
     "name": "stdout",
     "output_type": "stream",
     "text": [
      "The optimal choice of alpha from the given set is 0.1\n",
      "\n",
      "The F1 score for Logistic Regression is 0.6966\n",
      "\n"
     ]
    },
    {
     "name": "stderr",
     "output_type": "stream",
     "text": [
      "C:\\Enthought\\User\\lib\\site-packages\\sklearn\\metrics\\classification.py:756: DeprecationWarning: The default `weighted` averaging is deprecated, and from version 0.18, use of precision, recall or F-score with multiclass or multilabel data or pos_label=None will result in an exception. Please set an explicit value for `average`, one of (None, 'micro', 'macro', 'weighted', 'samples'). In cross validation use, for instance, scoring=\"f1_weighted\" instead of scoring=\"f1\".\n",
      "  sample_weight=sample_weight)\n"
     ]
    },
    {
     "name": "stdout",
     "output_type": "stream",
     "text": [
      "For C value of 0.001, the sums of weight vectors squared are:\n",
      "[0.16509345166787442, 0.20095274690581966, 0.18067093754393232, 0.18724278437848826]\n",
      "\n",
      "For C value of 0.01, the sums of weight vectors squared are:\n",
      "[2.5414804607462353, 2.9397093683563731, 2.8624689485521828, 2.2500287477622374]\n",
      "\n",
      "For C value of 0.1, the sums of weight vectors squared are:\n",
      "[27.127547660850993, 24.649911518065075, 27.458368829029606, 23.018063062002721]\n",
      "\n",
      "For C value of 1.0, the sums of weight vectors squared are:\n",
      "[166.95971525594615, 130.86900902202387, 158.03620136068233, 145.69588042862713]\n",
      "\n",
      "For C value of 2.0, the sums of weight vectors squared are:\n",
      "[257.52060888338974, 197.88937739517738, 240.00462602916397, 226.71480174078738]\n",
      "\n",
      "For C value of 10.0, the sums of weight vectors squared are:\n",
      "[586.67761400561096, 447.9390597589221, 540.35981422466079, 530.78678792785456]\n",
      "\n"
     ]
    }
   ],
   "source": [
    "def P3():\n",
    "### STUDENT START ###\n",
    "    vec = CountVectorizer()\n",
    "    x = vec.fit_transform(train_data).toarray()\n",
    "    dev = vec.transform(dev_data).toarray()\n",
    "   \n",
    "    #fit and optimize across k, note the 3Fold KValidation takes time so\n",
    "    #small number of k's tried\n",
    "    nn = KNeighborsClassifier()\n",
    "    k = {'n_neighbors':[1,2,5,10,20]}\n",
    "    nn = GridSearchCV(nn,k)\n",
    "    nn.fit(x,train_labels)\n",
    "    bestN = nn.best_params_.values()[0]\n",
    "    print 'The optimal choice of k from the given set is {}'.format(bestN)\n",
    "    print ''\n",
    "    \n",
    "    #define predictions and calc F1\n",
    "    preds = nn.predict(dev)\n",
    "    f1 = metrics.f1_score(dev_labels,preds)\n",
    "    print 'The F1 score for K-Nearest Neighbors is {:.4}'.format(f1)\n",
    "    print ''\n",
    "    \n",
    "    #fit multinomial\n",
    "    mb = MultinomialNB()\n",
    "    alphas = {'alpha': [0.0, 0.0001, 0.001, 0.01, 0.1, 0.5, 1.0, 2.0, 10.0]}\n",
    "    mb = GridSearchCV(mb,alphas)\n",
    "    mb.fit(x,train_labels)\n",
    "    bestAlpha = mb.best_params_.values()[0]\n",
    "    print 'The optimal choice of alpha from the given set is {}'.format(bestAlpha)\n",
    "    print ''\n",
    "\n",
    "    #define predictions and calc F1\n",
    "    predsMB = mb.predict(dev)\n",
    "    f1MB = metrics.f1_score(dev_labels,predsMB)\n",
    "    print 'The F1 score for Multinomial Naive Bayes is {:.4}'.format(f1MB)\n",
    "    print ''\n",
    "    \n",
    "    #fit Logistic Regression\n",
    "    Cs = {'C': [0.001, 0.01, 0.1, 1.0, 2.0, 10.0]}\n",
    "    lr = LogisticRegression(penalty = 'l2')\n",
    "    lr = GridSearchCV(lr,Cs)\n",
    "    lr.fit(x,train_labels)\n",
    "    bestC = lr.best_params_.values()[0]\n",
    "    print 'The optimal choice of C from the given set is {}'.format(bestC)\n",
    "    print''\n",
    "    \n",
    "    #define predictions and calc F1\n",
    "    predsLR = lr.predict(dev)\n",
    "    f1LR = metrics.f1_score(dev_labels,predsLR)\n",
    "    print 'The F1 score for Logistic Regression is {:.4}'.format(f1LR)\n",
    "    print ''\n",
    "    \n",
    "    #Calc and print c's to weight values\n",
    "    for i in Cs.values()[0]:\n",
    "        lr1 = LogisticRegression(penalty = 'l2', C=i)\n",
    "        lr1.fit(x,train_labels)\n",
    "        weights = [sum(y) for y in lr1.coef_**2]\n",
    "        print 'For C value of {}, the sums of weight vectors squared are:'.format(i) \n",
    "        print weights\n",
    "        print ''\n",
    "### STUDENT END ###\n",
    "P3()"
   ]
  },
  {
   "cell_type": "markdown",
   "metadata": {},
   "source": [
    "ANSWER:  I believe nearest neighbors will suffer from an incomplete vocabulary leading to a much higher ambiguity of messages that contain some parts of a similar vocabulary.  This is then further exacerbated when calculating the distnace between points where certain words that are common to multiple classes may outweigh the importance of a singular missing value of a more unique word.  The key difference between Naive Bayes and Logistic Regression is the assumption of independence in features that the former employs.  From a document classification stanpoint, this may be beneficail especially when the vocabulary derived from the training data is not complete.  As noted above, there is ~20% of the dev data vocabulary missing from the training dictionary, so more singular, distinct words might want to be given the maximum weight if they are strongly related to a class as opposed to a diminishing magnitude caused by correlation with other features.  C is inversely related to regularization, so the smaller values lead to a higher penalty function.  So the more punitive regularization term will restrict overfitting weight values.  Thus as we relax the regularization (increase C), we would expect higher and higher magnitudes, which, when squared, yield higher sums."
   ]
  },
  {
   "cell_type": "markdown",
   "metadata": {},
   "source": [
    "(4) Train a logistic regression model. Find the 5 features with the largest weights for each label -- 20 features in total. Create a table with 20 rows and 4 columns that shows the weight for each of these features for each of the labels. Create the table again with bigram features. Any surprising features in this table?"
   ]
  },
  {
   "cell_type": "code",
   "execution_count": 54,
   "metadata": {
    "collapsed": false
   },
   "outputs": [
    {
     "name": "stdout",
     "output_type": "stream",
     "text": [
      "For unigram:\n",
      "               alt.atheism  talk.religion.misc  comp.graphics  sci.space\n",
      "condescending     0.461523           -0.079333      -0.158391  -0.295264\n",
      "alphachannel      0.478081           -0.120405      -0.167847  -0.227744\n",
      "visitor           0.493939           -0.298727      -0.393228   0.003990\n",
      "imaginative       0.495522           -0.207186      -0.199910  -0.267768\n",
      "2009             -0.655138           -0.713828       1.258800  -0.590132\n",
      "pi1              -0.039748            0.558916      -0.329046  -0.228741\n",
      "aneutronic       -0.177352            0.641005      -0.421576  -0.288189\n",
      "80               -0.263612            0.641869      -0.367629  -0.216023\n",
      "2009             -0.655138           -0.713828       1.258800  -0.590132\n",
      "arcjets          -0.411104            1.007303      -0.651122  -0.372192\n",
      "vest              0.085460           -0.430927      -0.507656   0.270640\n",
      "tickets          -0.273491           -0.261667       0.540881  -0.253080\n",
      "millernw         -0.217556           -0.334043       0.597350  -0.248886\n",
      "arcjets          -0.411104            1.007303      -0.651122  -0.372192\n",
      "2009             -0.655138           -0.713828       1.258800  -0.590132\n",
      "dullman          -0.354711           -0.037622      -0.081878   0.429074\n",
      "steinberg        -0.208255           -0.063193      -0.097590   0.433812\n",
      "bhagavad         -0.330850           -0.162623      -0.203044   0.499456\n",
      "poke             -0.262411           -0.190360      -0.194522   0.547456\n",
      "2009             -0.655138           -0.713828       1.258800  -0.590132\n",
      "\n",
      "For bigram:\n",
      "                    alt.atheism  talk.religion.misc  comp.graphics  sci.space\n",
      "this man               0.296121           -0.146016      -0.287450   0.030933\n",
      "national technical     0.297920           -0.026313      -0.295854  -0.065223\n",
      "gps applications      -0.301106            0.166588      -0.052509  -0.085336\n",
      "most humane            0.314808           -0.366996      -0.355327   0.329547\n",
      "so because            -0.383646            0.671227      -0.292240  -0.327732\n",
      "thing because          0.052984           -0.398444       0.057092   0.114531\n",
      "mchp sni              -0.176669            0.415800      -0.274608  -0.122939\n",
      "fi mac                -0.175383            0.463000      -0.274904  -0.163800\n",
      "indeed fits           -0.282801            0.525637      -0.258337  -0.245845\n",
      "so because            -0.383646            0.671227      -0.292240  -0.327732\n",
      "most humane            0.314808           -0.366996      -0.355327   0.329547\n",
      "ut and                -0.147060           -0.202693       0.367722  -0.124180\n",
      "himself in            -0.123205           -0.202599       0.370203  -0.135291\n",
      "beam stored           -0.172219           -0.289128       0.524647  -0.171627\n",
      "render icase          -0.231811           -0.309025       0.562894  -0.157113\n",
      "relate to             -0.116104           -0.009131      -0.182095   0.273991\n",
      "mapping modellers     -0.234459            0.293171       0.006692  -0.288462\n",
      "features the          -0.071424           -0.112657      -0.162918   0.320272\n",
      "so because            -0.383646            0.671227      -0.292240  -0.327732\n",
      "most humane            0.314808           -0.366996      -0.355327   0.329547\n"
     ]
    }
   ],
   "source": [
    "def P4():\n",
    "### STUDENT START ###\n",
    "    #function to create the ngram table\n",
    "    def createTable(n_gram):\n",
    "        #fit the regression\n",
    "        vec = CountVectorizer(ngram_range =(n_gram, n_gram))\n",
    "        x = vec.fit_transform(train_data).toarray()\n",
    "        dev = vec.transform(dev_data).toarray()\n",
    "    \n",
    "        lr = LogisticRegression(penalty = 'l2', C=0.1)\n",
    "        lr.fit(x,train_labels)\n",
    "        featureWeights = lr.coef_\n",
    "    \n",
    "        allWeights = []\n",
    "        for i in featureWeights:\n",
    "            magnitude = abs(i)\n",
    "            indices = [x for x in np.argsort(magnitude)[-5:]]\n",
    "            allWeights += indices\n",
    "    \n",
    "        rownames = [str(vec.vocabulary_.keys()[y]) for y in allWeights]\n",
    "    \n",
    "        #create array that will be turned into table\n",
    "        arrayData = []\n",
    "        for index in allWeights:\n",
    "            row = [featureWeights[0][index], featureWeights[1][index], featureWeights[2][index], featureWeights[3][index]]\n",
    "            arrayData.append(row)\n",
    "        print pd.DataFrame(arrayData, index = rownames, columns=categories)\n",
    "    \n",
    "    print 'For unigram:'\n",
    "    createTable(n_gram=1)\n",
    "    print ''\n",
    "    \n",
    "    print 'For bigram:'\n",
    "    createTable(n_gram=2)\n",
    "    \n",
    "### Student End ###\n",
    "P4()\n"
   ]
  },
  {
   "cell_type": "markdown",
   "metadata": {},
   "source": [
    "ANSWER:  Off the bat we notice and immediate decreases in weight magnitude in the bigram vs unigram tables.  I found it surprising to see some numerical values.  We also see that there are some tokens which are in the top five magnitude weights for multiple classes, such as 'arcjets' and 'most humane'."
   ]
  },
  {
   "cell_type": "markdown",
   "metadata": {},
   "source": [
    "(5) Try to improve the logistic regression classifier by passing a custom preprocessor to CountVectorizer. The preprocessing function runs on the raw text, before it is split into words by the tokenizer. Your preprocessor should try to normalize the input in various ways to improve generalization. For example, try lowercasing everything, replacing sequences of numbers with a single token, removing various other non-letter characters, and shortening long words. If you're not already familiar with regular expressions for manipulating strings, see https://docs.python.org/2/library/re.html, and re.sub() in particular. With your new preprocessor, how much did you reduce the size of the dictionary?\n",
    "\n",
    "For reference, I was able to improve dev F1 by 2 points."
   ]
  },
  {
   "cell_type": "code",
   "execution_count": 90,
   "metadata": {
    "collapsed": false
   },
   "outputs": [
    {
     "name": "stderr",
     "output_type": "stream",
     "text": [
      "C:\\Enthought\\User\\lib\\site-packages\\sklearn\\metrics\\classification.py:756: DeprecationWarning: The default `weighted` averaging is deprecated, and from version 0.18, use of precision, recall or F-score with multiclass or multilabel data or pos_label=None will result in an exception. Please set an explicit value for `average`, one of (None, 'micro', 'macro', 'weighted', 'samples'). In cross validation use, for instance, scoring=\"f1_weighted\" instead of scoring=\"f1\".\n",
      "  sample_weight=sample_weight)\n"
     ]
    },
    {
     "name": "stdout",
     "output_type": "stream",
     "text": [
      "The F1 score for no PreProcessing is 0.7014\n",
      "\n",
      "The F1 score for custom Preprocessing is 0.7031\n",
      "\n",
      "The new shortened vocabulary is reduced by 360 words.\n"
     ]
    },
    {
     "name": "stderr",
     "output_type": "stream",
     "text": [
      "C:\\Enthought\\User\\lib\\site-packages\\sklearn\\metrics\\classification.py:756: DeprecationWarning: The default `weighted` averaging is deprecated, and from version 0.18, use of precision, recall or F-score with multiclass or multilabel data or pos_label=None will result in an exception. Please set an explicit value for `average`, one of (None, 'micro', 'macro', 'weighted', 'samples'). In cross validation use, for instance, scoring=\"f1_weighted\" instead of scoring=\"f1\".\n",
      "  sample_weight=sample_weight)\n"
     ]
    }
   ],
   "source": [
    "def empty_preprocessor(s):\n",
    "    return s\n",
    "\n",
    "def better_preprocessor(s):\n",
    "### STUDENT START ###\n",
    "    # replcace all long decimals with one token\n",
    "    s = re.sub('\\.\\d+','\\.\\d',s)\n",
    "    \n",
    "    #replace any strings longer than 20 with 15\n",
    "    s = re.sub('[a-zA-Z_]{15,}', '[a-zA-Z_]{10,}',s)\n",
    "\n",
    "    return s\n",
    "### STUDENT END ###\n",
    "\n",
    "def P5():\n",
    "### STUDENT START ###\n",
    "\n",
    "    #basic LR model with different preprocessing\n",
    "    def calcF1(processFunction):\n",
    "        vec = CountVectorizer(preprocessor=processFunction)\n",
    "        x = vec.fit_transform(train_data).toarray()\n",
    "        dev = vec.transform(dev_data).toarray()\n",
    "        \n",
    "        lr = LogisticRegression(penalty = 'l2', C= 0.1)\n",
    "        lr.fit(x,train_labels)\n",
    "        predsLR = lr.predict(dev)\n",
    "        f1LR = metrics.f1_score(dev_labels,predsLR)\n",
    "        vocablen = len(vec.vocabulary_)\n",
    "        return f1LR, vocablen\n",
    "    \n",
    "    empty, oldLen = calcF1(empty_preprocessor)\n",
    "    print 'The F1 score for no PreProcessing is {:.4}'.format(empty)\n",
    "    print ''\n",
    "    \n",
    "    preProcessed, newLen = calcF1(better_preprocessor)\n",
    "    print 'The F1 score for custom Preprocessing is {:.4}'.format(preProcessed)\n",
    "    print ''\n",
    "    \n",
    "    print 'The new shortened vocabulary is reduced by {} words.'.format(oldLen-newLen)\n",
    "\n",
    "### STUDENT END ###\n",
    "P5()"
   ]
  },
  {
   "cell_type": "markdown",
   "metadata": {},
   "source": [
    "(6) The idea of regularization is to avoid learning very large weights (which are likely to fit the training data, but not generalize well) by adding a penalty to the total size of the learned weights. That is, logistic regression seeks the set of weights that minimizes errors in the training data AND has a small size. The default regularization, L2, computes this size as the sum of the squared weights (see P3, above). L1 regularization computes this size as the sum of the absolute values of the weights. The result is that whereas L2 regularization makes all the weights relatively small, L1 regularization drives lots of the weights to 0, effectively removing unimportant features.\n",
    "\n",
    "Train a logistic regression model using a \"l1\" penalty. Output the number of learned weights that are not equal to zero. How does this compare to the number of non-zero weights you get with \"l2\"? Now, reduce the size of the vocabulary by keeping only those features that have at least one non-zero weight and retrain a model using \"l2\".\n",
    "\n",
    "Make a plot showing accuracy of the re-trained model vs. the vocabulary size you get when pruning unused features by adjusting the C parameter.\n",
    "\n",
    "Note: The gradient descent code that trains the logistic regression model sometimes has trouble converging with extreme settings of the C parameter. Relax the convergence criteria by setting tol=.01 (the default is .0001)."
   ]
  },
  {
   "cell_type": "code",
   "execution_count": 48,
   "metadata": {
    "collapsed": false
   },
   "outputs": [
    {
     "name": "stdout",
     "output_type": "stream",
     "text": [
      "The number of nonzero weights using L1 is 206.\n",
      "\n",
      "The number of nonzero weights using L2 is 26879.\n",
      "\n"
     ]
    },
    {
     "data": {
      "image/png": "[encoded data removed]",
      "text/plain": [
       "<matplotlib.figure.Figure at 0xeae3dd8>"
      ]
     },
     "metadata": {},
     "output_type": "display_data"
    }
   ],
   "source": [
    "def P6():\n",
    "    # Keep this random seed here to make comparison easier.\n",
    "    np.random.seed(0)\n",
    "\n",
    "    ### STUDENT START ###\n",
    "    #initiate the logistic regression and calc difference in nonzero weights for different penalties\n",
    "    vec = CountVectorizer()\n",
    "    x = vec.fit_transform(train_data).toarray()\n",
    "    dev = vec.transform(dev_data).toarray()\n",
    "        \n",
    "    lr = LogisticRegression(penalty = 'l1', C= 0.1)\n",
    "    lr.fit(x,train_labels)\n",
    "    nonzeroL1 = [np.nonzero(a) for a in lr.coef_]\n",
    "    outlist = [y[0].tolist() for y in nonzeroL1]\n",
    "    uniqueL1 = np.unique([item for sublist in outlist for item in sublist])\n",
    "    print 'The number of nonzero weights using L1 is {}.'.format(len(uniqueL1))\n",
    "    print ''\n",
    "    \n",
    "    lr2 = LogisticRegression(penalty = 'l2', C= 0.1)\n",
    "    lr2.fit(x,train_labels)\n",
    "    nonzeroL2 = [np.nonzero(a) for a in lr2.coef_]\n",
    "    outlist2 = [y[0].tolist() for y in nonzeroL2]\n",
    "    uniqueL2 = np.unique([item for sublist in outlist2 for item in sublist])\n",
    "    print 'The number of nonzero weights using L2 is {}.'.format(len(uniqueL2))\n",
    "    print ''\n",
    "    \n",
    "    #define new vocab and set up plot to show how regulariztion effect on accuracy\n",
    "    keys = [vec.vocabulary_.keys()[i] for i in uniqueL1]\n",
    "    newVocab = [vec.vocabulary_[j] for j in keys]\n",
    "    vec1 = CountVectorizer(vocabulary=newVocab)\n",
    "    x = vec.fit_transform(train_data).toarray()\n",
    "    dev = vec.transform(dev_data).toarray()\n",
    "    \n",
    "    def fitLR(CVal):\n",
    "        lr3 = LogisticRegression(penalty = 'l2', C=CVal, tol =.01)\n",
    "        lr3.fit(x,train_labels)\n",
    "        predsLR = lr3.predict(dev)\n",
    "        accuracy = metrics.accuracy_score(dev_labels,predsLR)\n",
    "        return accuracy\n",
    "    \n",
    "    Cs = [.0001,.001,.01,.1,1.0,10,25,50,75,100]\n",
    "    accuracies = [fitLR(k) for k in Cs]\n",
    "    \n",
    "    plt.plot(Cs, accuracies,'ro')\n",
    "    plt.xlabel('Accuracy')\n",
    "    plt.ylabel('C')\n",
    "    plt.title('Effect of C on Accuracy')\n",
    "    \n",
    "    ### STUDENT END ###\n",
    "P6()"
   ]
  },
  {
   "cell_type": "markdown",
   "metadata": {},
   "source": [
    "(7) Use the TfidfVectorizer -- how is this different from the CountVectorizer? Train a logistic regression model with C=100.\n",
    "\n",
    "Make predictions on the dev data and show the top 3 documents where the ratio R is largest, where R is:\n",
    "\n",
    "maximum predicted probability / predicted probability of the correct label\n",
    "\n",
    "What kinds of mistakes is the model making? Suggest a way to address one particular issue that you see."
   ]
  },
  {
   "cell_type": "code",
   "execution_count": 120,
   "metadata": {
    "collapsed": false
   },
   "outputs": [
    {
     "name": "stdout",
     "output_type": "stream",
     "text": [
      "The top 3 highest R score examples are:\n",
      "\n",
      "With an R-score of 287.3:\n",
      "\n",
      "\n",
      "The 24 children were, of course, killed by a lone gunman in a second story\n",
      "window, who fired eight bullets in the space of two seconds...\n",
      "\n",
      "With an R-score of 325.0:\n",
      "\n",
      "Can anyone provide me a ftp site where I can obtain a online version\n",
      "of the Book of Mormon. Please email the internet address if possible.\n",
      "With an R-score of 929.4:\n",
      "\n",
      "I am pleased to announce that a *revised version* of _The Easy-to-Read Book\n",
      "of Mormon_ (former title: _Mormon's Book_) by Lynn Matthews Anderson is now\n",
      "available through anonymous ftp (see information below). In addition to the\n",
      "change in title, the revised ETR BOM has been shortened by several pages\n",
      "(eliminating many extraneous \"that's\" and \"of's\"), and many (minor) errors\n",
      "have been corrected. This release includes a simplified Joseph Smith Story,\n",
      "testimonies of the three and eight witnesses, and a \"Words-to-Know\"\n",
      "glossary.\n",
      "\n",
      "As with the previous announcement, readers are reminded that this is a\n",
      "not-for-profit endeavor. This is a copyrighted work, but people are welcome\n",
      "to make *verbatim* copies for personal use. People can recuperate the\n",
      "actual costs of printing (paper, copy center charges), but may not charge\n",
      "anything for their time in making copies, or in any way realize a profit\n",
      "from the use of this book. See the permissions notice in the book itself\n",
      "for the precise terms.\n",
      "\n",
      "Negotiations are currently underway with a Mormon publisher vis-a-vis the\n",
      "printing and distribution of bound books. (Sorry, I'm out of the wire-bound\n",
      "\"first editions.\") I will make another announcement about the availability\n",
      "of printed copies once everything has been worked out.\n",
      "\n",
      "FTP information: connect via anonymous ftp to carnot.itc.cmu.edu, then \"cd\n",
      "pub\" (you won't see anything at all until you do).\n",
      "\n",
      "\"The Easy-to-Read Book of Mormon\" is currently available in postscript and\n",
      "RTF (rich text format). (ASCII, LaTeX, and other versions can be made\n",
      "available; contact dba@andrew.cmu.edu for details.) You should be able to\n",
      "print the postscript file on any postscript printer (such as an Apple\n",
      "Laserwriter); let dba know if you have any difficulties. (The postscript in\n",
      "the last release had problems on some printers; this time it should work\n",
      "better.) RTF is a standard document interchange format that can be read in\n",
      "by a number of word processors, including Microsoft Word for both the\n",
      "Macintosh and Windows. If you don't have a postscript printer, you may be\n",
      "able to use the RTF file to print out a copy of the book.\n",
      "\n",
      "-r--r--r--  1 dba                   1984742 Apr 27 13:12 etrbom.ps\n",
      "-r--r--r--  1 dba                   1209071 Apr 27 13:13 etrbom.rtf\n",
      "\n",
      "For more information about how this project came about, please refer to my\n",
      "article in the current issue of _Sunstone_, entitled \"Delighting in\n",
      "Plainness: Issues Surrounding a Simple Modern English Book of Mormon.\"\n",
      "\n",
      "Send all inquiries and comments to:\n",
      "\n",
      "    Lynn Matthews Anderson\n",
      "    5806 Hampton Street\n",
      "    Pittsburgh, PA 15206\n"
     ]
    }
   ],
   "source": [
    "def P7():\n",
    "### STUDENT START ###\n",
    "    TFvec = TfidfVectorizer()\n",
    "    x = TFvec.fit_transform(train_data)\n",
    "    dev = TFvec.transform(dev_data)\n",
    "    \n",
    "    lr = LogisticRegression(penalty='l2',C=100)\n",
    "    lr.fit(x,train_labels)\n",
    "    preds = lr.predict(dev)\n",
    "    \n",
    "    probs = lr.predict_proba(dev)\n",
    "    #defne R as the highest probability in the set divided by correct\n",
    "    R = []\n",
    "    for p in range(len(probs)):\n",
    "        maxProb = max(probs[p])\n",
    "        correctProb = probs[p][dev_labels[p]]\n",
    "        R+=[maxProb/correctProb]\n",
    "    \n",
    "    topIndices = sorted(range(len(R)), key=lambda i: R[i])[-3:]\n",
    "    print 'The top 3 highest R score examples are:'\n",
    "    print ''\n",
    "    for top in topIndices:\n",
    "        print 'With an R-score of {:.4}:'.format(R[top])\n",
    "        print ''\n",
    "        print dev_data[top]\n",
    "    \n",
    "## STUDENT END ###\n",
    "P7()"
   ]
  },
  {
   "cell_type": "markdown",
   "metadata": {},
   "source": [
    "ANSWER:  The TfidfVectorizer has an additional layer of transform applied to the original results of the CountVectorizer.  Specfically, an inverse-document freqency transform is applied which attempts to eliminate some of the high-freuency raw strings, like articles, and give more credence based on document frequency (df) to other terms.  One potential problem is that the document frequency metric is being baised by spurious low frequency words that may be uncommon for a low count but common enough to be used in many contexts.  One way of addressing this would be to set a minimum threshold document frequency."
   ]
  },
  {
   "cell_type": "markdown",
   "metadata": {},
   "source": [
    "(8) EXTRA CREDIT\n",
    "\n",
    "Try implementing one of your ideas based on your error analysis. Use logistic regression as your underlying model."
   ]
  },
  {
   "cell_type": "code",
   "execution_count": null,
   "metadata": {
    "collapsed": true
   },
   "outputs": [],
   "source": []
  }
 ],
 "metadata": {
  "kernelspec": {
   "display_name": "Python 2",
   "language": "python",
   "name": "python2"
  },
  "language_info": {
   "codemirror_mode": {
    "name": "ipython",
    "version": 2
   },
   "file_extension": ".py",
   "mimetype": "text/x-python",
   "name": "python",
   "nbconvert_exporter": "python",
   "pygments_lexer": "ipython2",
   "version": "2.7.11"
  }
 },
 "nbformat": 4,
 "nbformat_minor": 0
}
